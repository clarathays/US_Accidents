{
 "cells": [
  {
   "cell_type": "markdown",
   "id": "51e60bf1",
   "metadata": {},
   "source": [
    "# EDA - 2. Diagnostico de calidad de los Datos\n"
   ]
  },
  {
   "cell_type": "code",
   "execution_count": 7,
   "id": "752f3c89",
   "metadata": {},
   "outputs": [],
   "source": [
    "import pandas as pd\n",
    "import numpy as np\n",
    "import seaborn as sns                       #visualisation\n",
    "import matplotlib.pyplot as plt             #visualisation\n",
    "%matplotlib inline     \n",
    "sns.set(color_codes=True)"
   ]
  },
  {
   "cell_type": "code",
   "execution_count": 8,
   "id": "c903e2be",
   "metadata": {},
   "outputs": [],
   "source": [
    "%matplotlib inline\n",
    "import matplotlib.pyplot as plt\n",
    "plt.rcParams['figure.figsize'] = (10,10)"
   ]
  },
  {
   "cell_type": "markdown",
   "id": "dd18068f",
   "metadata": {},
   "source": [
    "**Lectura de Datos**\n",
    "\n",
    "El input de este paso es el output del anterior\n",
    "\n",
    "    "
   ]
  },
  {
   "cell_type": "code",
   "execution_count": 9,
   "id": "5da48f10",
   "metadata": {},
   "outputs": [
    {
     "data": {
      "text/html": [
       "<div>\n",
       "<style scoped>\n",
       "    .dataframe tbody tr th:only-of-type {\n",
       "        vertical-align: middle;\n",
       "    }\n",
       "\n",
       "    .dataframe tbody tr th {\n",
       "        vertical-align: top;\n",
       "    }\n",
       "\n",
       "    .dataframe thead th {\n",
       "        text-align: right;\n",
       "    }\n",
       "</style>\n",
       "<table border=\"1\" class=\"dataframe\">\n",
       "  <thead>\n",
       "    <tr style=\"text-align: right;\">\n",
       "      <th></th>\n",
       "      <th>ID</th>\n",
       "      <th>Severity</th>\n",
       "      <th>Start_Time</th>\n",
       "      <th>End_Time</th>\n",
       "      <th>Start_Lat</th>\n",
       "      <th>Start_Lng</th>\n",
       "      <th>Distance(mi)</th>\n",
       "      <th>Street</th>\n",
       "      <th>Side</th>\n",
       "      <th>City</th>\n",
       "      <th>...</th>\n",
       "      <th>No_Exit</th>\n",
       "      <th>Railway</th>\n",
       "      <th>Roundabout</th>\n",
       "      <th>Station</th>\n",
       "      <th>Stop</th>\n",
       "      <th>Traffic_Calming</th>\n",
       "      <th>Traffic_Signal</th>\n",
       "      <th>Turning_Loop</th>\n",
       "      <th>Sunrise_Sunset</th>\n",
       "      <th>Civil_Twilight</th>\n",
       "    </tr>\n",
       "  </thead>\n",
       "  <tbody>\n",
       "    <tr>\n",
       "      <th>0</th>\n",
       "      <td>A-1</td>\n",
       "      <td>3</td>\n",
       "      <td>2016-02-08 00:37:08</td>\n",
       "      <td>2016-02-08 06:37:08</td>\n",
       "      <td>40.108910</td>\n",
       "      <td>-83.092860</td>\n",
       "      <td>3.230</td>\n",
       "      <td>Outerbelt E</td>\n",
       "      <td>R</td>\n",
       "      <td>Dublin</td>\n",
       "      <td>...</td>\n",
       "      <td>False</td>\n",
       "      <td>False</td>\n",
       "      <td>False</td>\n",
       "      <td>False</td>\n",
       "      <td>False</td>\n",
       "      <td>False</td>\n",
       "      <td>False</td>\n",
       "      <td>False</td>\n",
       "      <td>Night</td>\n",
       "      <td>Night</td>\n",
       "    </tr>\n",
       "    <tr>\n",
       "      <th>1</th>\n",
       "      <td>A-2</td>\n",
       "      <td>2</td>\n",
       "      <td>2016-02-08 05:56:20</td>\n",
       "      <td>2016-02-08 11:56:20</td>\n",
       "      <td>39.865420</td>\n",
       "      <td>-84.062800</td>\n",
       "      <td>0.747</td>\n",
       "      <td>I-70 E</td>\n",
       "      <td>R</td>\n",
       "      <td>Dayton</td>\n",
       "      <td>...</td>\n",
       "      <td>False</td>\n",
       "      <td>False</td>\n",
       "      <td>False</td>\n",
       "      <td>False</td>\n",
       "      <td>False</td>\n",
       "      <td>False</td>\n",
       "      <td>False</td>\n",
       "      <td>False</td>\n",
       "      <td>Night</td>\n",
       "      <td>Night</td>\n",
       "    </tr>\n",
       "    <tr>\n",
       "      <th>2</th>\n",
       "      <td>A-3</td>\n",
       "      <td>2</td>\n",
       "      <td>2016-02-08 06:15:39</td>\n",
       "      <td>2016-02-08 12:15:39</td>\n",
       "      <td>39.102660</td>\n",
       "      <td>-84.524680</td>\n",
       "      <td>0.055</td>\n",
       "      <td>I-75 S</td>\n",
       "      <td>R</td>\n",
       "      <td>Cincinnati</td>\n",
       "      <td>...</td>\n",
       "      <td>False</td>\n",
       "      <td>False</td>\n",
       "      <td>False</td>\n",
       "      <td>False</td>\n",
       "      <td>False</td>\n",
       "      <td>False</td>\n",
       "      <td>False</td>\n",
       "      <td>False</td>\n",
       "      <td>Night</td>\n",
       "      <td>Night</td>\n",
       "    </tr>\n",
       "    <tr>\n",
       "      <th>3</th>\n",
       "      <td>A-4</td>\n",
       "      <td>2</td>\n",
       "      <td>2016-02-08 06:51:45</td>\n",
       "      <td>2016-02-08 12:51:45</td>\n",
       "      <td>41.062130</td>\n",
       "      <td>-81.537840</td>\n",
       "      <td>0.123</td>\n",
       "      <td>I-77 N</td>\n",
       "      <td>R</td>\n",
       "      <td>Akron</td>\n",
       "      <td>...</td>\n",
       "      <td>False</td>\n",
       "      <td>False</td>\n",
       "      <td>False</td>\n",
       "      <td>False</td>\n",
       "      <td>False</td>\n",
       "      <td>False</td>\n",
       "      <td>False</td>\n",
       "      <td>False</td>\n",
       "      <td>Night</td>\n",
       "      <td>Night</td>\n",
       "    </tr>\n",
       "    <tr>\n",
       "      <th>4</th>\n",
       "      <td>A-5</td>\n",
       "      <td>3</td>\n",
       "      <td>2016-02-08 07:53:43</td>\n",
       "      <td>2016-02-08 13:53:43</td>\n",
       "      <td>39.172393</td>\n",
       "      <td>-84.492792</td>\n",
       "      <td>0.500</td>\n",
       "      <td>I-75 S</td>\n",
       "      <td>R</td>\n",
       "      <td>Cincinnati</td>\n",
       "      <td>...</td>\n",
       "      <td>False</td>\n",
       "      <td>False</td>\n",
       "      <td>False</td>\n",
       "      <td>False</td>\n",
       "      <td>False</td>\n",
       "      <td>False</td>\n",
       "      <td>False</td>\n",
       "      <td>False</td>\n",
       "      <td>Day</td>\n",
       "      <td>Day</td>\n",
       "    </tr>\n",
       "  </tbody>\n",
       "</table>\n",
       "<p>5 rows × 35 columns</p>\n",
       "</div>"
      ],
      "text/plain": [
       "    ID  Severity           Start_Time             End_Time  Start_Lat  \\\n",
       "0  A-1         3  2016-02-08 00:37:08  2016-02-08 06:37:08  40.108910   \n",
       "1  A-2         2  2016-02-08 05:56:20  2016-02-08 11:56:20  39.865420   \n",
       "2  A-3         2  2016-02-08 06:15:39  2016-02-08 12:15:39  39.102660   \n",
       "3  A-4         2  2016-02-08 06:51:45  2016-02-08 12:51:45  41.062130   \n",
       "4  A-5         3  2016-02-08 07:53:43  2016-02-08 13:53:43  39.172393   \n",
       "\n",
       "   Start_Lng  Distance(mi)       Street Side        City  ... No_Exit Railway  \\\n",
       "0 -83.092860         3.230  Outerbelt E    R      Dublin  ...   False   False   \n",
       "1 -84.062800         0.747       I-70 E    R      Dayton  ...   False   False   \n",
       "2 -84.524680         0.055       I-75 S    R  Cincinnati  ...   False   False   \n",
       "3 -81.537840         0.123       I-77 N    R       Akron  ...   False   False   \n",
       "4 -84.492792         0.500       I-75 S    R  Cincinnati  ...   False   False   \n",
       "\n",
       "   Roundabout  Station   Stop  Traffic_Calming  Traffic_Signal  Turning_Loop  \\\n",
       "0       False    False  False            False           False         False   \n",
       "1       False    False  False            False           False         False   \n",
       "2       False    False  False            False           False         False   \n",
       "3       False    False  False            False           False         False   \n",
       "4       False    False  False            False           False         False   \n",
       "\n",
       "   Sunrise_Sunset Civil_Twilight  \n",
       "0           Night          Night  \n",
       "1           Night          Night  \n",
       "2           Night          Night  \n",
       "3           Night          Night  \n",
       "4             Day            Day  \n",
       "\n",
       "[5 rows x 35 columns]"
      ]
     },
     "execution_count": 9,
     "metadata": {},
     "output_type": "execute_result"
    }
   ],
   "source": [
    "accidentes = pd.read_csv(\"accidentes.1.procesado_inicial.csv\")\n",
    "accidentes.head()"
   ]
  },
  {
   "cell_type": "code",
   "execution_count": 10,
   "id": "e73a7b91",
   "metadata": {},
   "outputs": [
    {
     "data": {
      "text/plain": [
       "(2845342, 35)"
      ]
     },
     "execution_count": 10,
     "metadata": {},
     "output_type": "execute_result"
    }
   ],
   "source": [
    "accidentes.shape"
   ]
  },
  {
   "cell_type": "markdown",
   "id": "90f4d1ad",
   "metadata": {},
   "source": [
    "# Eliminar Duplicados"
   ]
  },
  {
   "cell_type": "code",
   "execution_count": 11,
   "id": "97a46927",
   "metadata": {},
   "outputs": [
    {
     "name": "stdout",
     "output_type": "stream",
     "text": [
      "number of duplicate rows:  (0, 35)\n"
     ]
    },
    {
     "data": {
      "text/html": [
       "<div>\n",
       "<style scoped>\n",
       "    .dataframe tbody tr th:only-of-type {\n",
       "        vertical-align: middle;\n",
       "    }\n",
       "\n",
       "    .dataframe tbody tr th {\n",
       "        vertical-align: top;\n",
       "    }\n",
       "\n",
       "    .dataframe thead th {\n",
       "        text-align: right;\n",
       "    }\n",
       "</style>\n",
       "<table border=\"1\" class=\"dataframe\">\n",
       "  <thead>\n",
       "    <tr style=\"text-align: right;\">\n",
       "      <th></th>\n",
       "      <th>ID</th>\n",
       "      <th>Severity</th>\n",
       "      <th>Start_Time</th>\n",
       "      <th>End_Time</th>\n",
       "      <th>Start_Lat</th>\n",
       "      <th>Start_Lng</th>\n",
       "      <th>Distance(mi)</th>\n",
       "      <th>Street</th>\n",
       "      <th>Side</th>\n",
       "      <th>City</th>\n",
       "      <th>...</th>\n",
       "      <th>No_Exit</th>\n",
       "      <th>Railway</th>\n",
       "      <th>Roundabout</th>\n",
       "      <th>Station</th>\n",
       "      <th>Stop</th>\n",
       "      <th>Traffic_Calming</th>\n",
       "      <th>Traffic_Signal</th>\n",
       "      <th>Turning_Loop</th>\n",
       "      <th>Sunrise_Sunset</th>\n",
       "      <th>Civil_Twilight</th>\n",
       "    </tr>\n",
       "  </thead>\n",
       "  <tbody>\n",
       "  </tbody>\n",
       "</table>\n",
       "<p>0 rows × 35 columns</p>\n",
       "</div>"
      ],
      "text/plain": [
       "Empty DataFrame\n",
       "Columns: [ID, Severity, Start_Time, End_Time, Start_Lat, Start_Lng, Distance(mi), Street, Side, City, County, State, Temperature(F), Wind_Chill(F), Humidity(%), Pressure(in), Visibility(mi), Wind_Speed(mph), Precipitation(in), Weather_Condition, Amenity, Bump, Crossing, Give_Way, Junction, No_Exit, Railway, Roundabout, Station, Stop, Traffic_Calming, Traffic_Signal, Turning_Loop, Sunrise_Sunset, Civil_Twilight]\n",
       "Index: []\n",
       "\n",
       "[0 rows x 35 columns]"
      ]
     },
     "execution_count": 11,
     "metadata": {},
     "output_type": "execute_result"
    }
   ],
   "source": [
    "duplicados = accidentes[accidentes.duplicated()]\n",
    "print(\"number of duplicate rows: \", duplicados.shape)\n",
    "duplicados"
   ]
  },
  {
   "cell_type": "code",
   "execution_count": 12,
   "id": "efee813d",
   "metadata": {},
   "outputs": [
    {
     "data": {
      "text/plain": [
       "ID                   2845342\n",
       "Severity             2845342\n",
       "Start_Time           2845342\n",
       "End_Time             2845342\n",
       "Start_Lat            2845342\n",
       "Start_Lng            2845342\n",
       "Distance(mi)         2845342\n",
       "Street               2845340\n",
       "Side                 2845342\n",
       "City                 2845205\n",
       "County               2845342\n",
       "State                2845342\n",
       "Temperature(F)       2776068\n",
       "Wind_Chill(F)        2375699\n",
       "Humidity(%)          2772250\n",
       "Pressure(in)         2786142\n",
       "Visibility(mi)       2774796\n",
       "Wind_Speed(mph)      2687398\n",
       "Precipitation(in)    2295884\n",
       "Weather_Condition    2774706\n",
       "Amenity              2845342\n",
       "Bump                 2845342\n",
       "Crossing             2845342\n",
       "Give_Way             2845342\n",
       "Junction             2845342\n",
       "No_Exit              2845342\n",
       "Railway              2845342\n",
       "Roundabout           2845342\n",
       "Station              2845342\n",
       "Stop                 2845342\n",
       "Traffic_Calming      2845342\n",
       "Traffic_Signal       2845342\n",
       "Turning_Loop         2845342\n",
       "Sunrise_Sunset       2842475\n",
       "Civil_Twilight       2842475\n",
       "dtype: int64"
      ]
     },
     "execution_count": 12,
     "metadata": {},
     "output_type": "execute_result"
    }
   ],
   "source": [
    "accidentes.count() "
   ]
  },
  {
   "cell_type": "code",
   "execution_count": 13,
   "id": "56ad2611",
   "metadata": {},
   "outputs": [
    {
     "data": {
      "text/html": [
       "<div>\n",
       "<style scoped>\n",
       "    .dataframe tbody tr th:only-of-type {\n",
       "        vertical-align: middle;\n",
       "    }\n",
       "\n",
       "    .dataframe tbody tr th {\n",
       "        vertical-align: top;\n",
       "    }\n",
       "\n",
       "    .dataframe thead th {\n",
       "        text-align: right;\n",
       "    }\n",
       "</style>\n",
       "<table border=\"1\" class=\"dataframe\">\n",
       "  <thead>\n",
       "    <tr style=\"text-align: right;\">\n",
       "      <th></th>\n",
       "      <th>ID</th>\n",
       "      <th>Severity</th>\n",
       "      <th>Start_Time</th>\n",
       "      <th>End_Time</th>\n",
       "      <th>Start_Lat</th>\n",
       "      <th>Start_Lng</th>\n",
       "      <th>Distance(mi)</th>\n",
       "      <th>Street</th>\n",
       "      <th>Side</th>\n",
       "      <th>City</th>\n",
       "      <th>...</th>\n",
       "      <th>No_Exit</th>\n",
       "      <th>Railway</th>\n",
       "      <th>Roundabout</th>\n",
       "      <th>Station</th>\n",
       "      <th>Stop</th>\n",
       "      <th>Traffic_Calming</th>\n",
       "      <th>Traffic_Signal</th>\n",
       "      <th>Turning_Loop</th>\n",
       "      <th>Sunrise_Sunset</th>\n",
       "      <th>Civil_Twilight</th>\n",
       "    </tr>\n",
       "  </thead>\n",
       "  <tbody>\n",
       "  </tbody>\n",
       "</table>\n",
       "<p>0 rows × 35 columns</p>\n",
       "</div>"
      ],
      "text/plain": [
       "Empty DataFrame\n",
       "Columns: [ID, Severity, Start_Time, End_Time, Start_Lat, Start_Lng, Distance(mi), Street, Side, City, County, State, Temperature(F), Wind_Chill(F), Humidity(%), Pressure(in), Visibility(mi), Wind_Speed(mph), Precipitation(in), Weather_Condition, Amenity, Bump, Crossing, Give_Way, Junction, No_Exit, Railway, Roundabout, Station, Stop, Traffic_Calming, Traffic_Signal, Turning_Loop, Sunrise_Sunset, Civil_Twilight]\n",
       "Index: []\n",
       "\n",
       "[0 rows x 35 columns]"
      ]
     },
     "execution_count": 13,
     "metadata": {},
     "output_type": "execute_result"
    }
   ],
   "source": [
    "accidentes[accidentes.duplicated()]. head(10)"
   ]
  },
  {
   "cell_type": "markdown",
   "id": "f4e62743",
   "metadata": {},
   "source": [
    "Al no tener filas con valores repetidos, no dropeamos ningun registro"
   ]
  },
  {
   "cell_type": "markdown",
   "id": "11d3e377",
   "metadata": {},
   "source": [
    "**Records Repetidos**\n",
    "\n",
    "Buscamos si hay variables en las que haya una gran cantidad de records que tengan el mismo valor (cardinalidad)."
   ]
  },
  {
   "cell_type": "code",
   "execution_count": 14,
   "id": "9fea49a2",
   "metadata": {
    "scrolled": true
   },
   "outputs": [
    {
     "name": "stdout",
     "output_type": "stream",
     "text": [
      "ID || 0.0 - 0.0 || object\n",
      "Severity || 0.89 - 0.009 || int64\n",
      "Start_Time || 0.0 - 0.0 || object\n",
      "End_Time || 0.0 - 0.0 || object\n",
      "Start_Lat || 0.0 - 0.0 || float64\n",
      "Start_Lng || 0.0 - 0.0 || float64\n",
      "Distance(mi) || 0.135 - 0.0 || float64\n",
      "Street || 0.014 - 0.0 || object\n",
      "Side || 0.827 - 0.0 || object\n",
      "City || 0.038 - 0.0 || object\n",
      "County || 0.082 - 0.0 || object\n",
      "State || 0.28 - 0.0 || object\n",
      "Temperature(F) || 0.023 - 0.0 || float64\n",
      "Wind_Chill(F) || 0.02 - 0.0 || float64\n",
      "Humidity(%) || 0.036 - 0.0 || float64\n",
      "Pressure(in) || 0.015 - 0.0 || float64\n",
      "Visibility(mi) || 0.784 - 0.0 || float64\n",
      "Wind_Speed(mph) || 0.152 - 0.0 || float64\n",
      "Precipitation(in) || 0.74 - 0.0 || float64\n",
      "Weather_Condition || 0.389 - 0.0 || object\n",
      "Amenity || 0.99 - 0.01 || bool\n",
      "Bump || 1.0 - 0.0 || bool\n",
      "Crossing || 0.93 - 0.07 || bool\n",
      "Give_Way || 0.998 - 0.002 || bool\n",
      "Junction || 0.898 - 0.102 || bool\n",
      "No_Exit || 0.998 - 0.002 || bool\n",
      "Railway || 0.992 - 0.008 || bool\n",
      "Roundabout || 1.0 - 0.0 || bool\n",
      "Station || 0.976 - 0.024 || bool\n",
      "Stop || 0.982 - 0.018 || bool\n",
      "Traffic_Calming || 0.999 - 0.001 || bool\n",
      "Traffic_Signal || 0.907 - 0.093 || bool\n",
      "Turning_Loop || 1.0 - 1.0 || bool\n",
      "Sunrise_Sunset || 0.637 - 0.362 || object\n",
      "Civil_Twilight || 0.678 - 0.321 || object\n"
     ]
    }
   ],
   "source": [
    "n_records = len(accidentes)\n",
    "\n",
    "def valores_duplicados(df):\n",
    "    for columna in df:\n",
    "        n_por_valor = df[columna].value_counts()\n",
    "        mas_comun = n_por_valor.iloc[0]\n",
    "        menos_comun = n_por_valor.iloc[-1]\n",
    "        print(\"{} || {} - {} || {}\".format(\n",
    "            df[columna].name, \n",
    "            round(mas_comun /(1.0*n_records),3),\n",
    "            round(menos_comun/(1.0*n_records),3), df[columna].dtype))\n",
    "        \n",
    "valores_duplicados(accidentes)"
   ]
  },
  {
   "cell_type": "markdown",
   "id": "6e4e0107",
   "metadata": {},
   "source": [
    "Podemos observar que hay varias columnas en las que podria haber un problema con valores repetidos. Hay un alto porcentaje de valores repetidos en las columnas que tiene tipo de dato BOOL. Realizamos un analisis para ver el problema de la repetición de valores. Columnas Analisdas:\n",
    "\n",
    "1. Side\n",
    "2. Visibility\n",
    "3. Precipitation\n",
    "4. Crossing "
   ]
  },
  {
   "cell_type": "code",
   "execution_count": 15,
   "id": "0e43a5e5",
   "metadata": {},
   "outputs": [
    {
     "data": {
      "text/plain": [
       "R    8.270742e-01\n",
       "L    1.729254e-01\n",
       "N    3.514516e-07\n",
       "Name: Side, dtype: float64"
      ]
     },
     "execution_count": 15,
     "metadata": {},
     "output_type": "execute_result"
    }
   ],
   "source": [
    "accidentes[\"Side\"].value_counts(normalize = True)"
   ]
  },
  {
   "cell_type": "code",
   "execution_count": 16,
   "id": "4b0d0954",
   "metadata": {},
   "outputs": [
    {
     "data": {
      "text/plain": [
       "0.00    9.165280e-01\n",
       "0.01    2.359004e-02\n",
       "0.02    1.154109e-02\n",
       "0.03    7.746907e-03\n",
       "0.04    5.986801e-03\n",
       "            ...     \n",
       "2.32    4.355621e-07\n",
       "3.09    4.355621e-07\n",
       "2.75    4.355621e-07\n",
       "1.50    4.355621e-07\n",
       "1.73    4.355621e-07\n",
       "Name: Precipitation(in), Length: 230, dtype: float64"
      ]
     },
     "execution_count": 16,
     "metadata": {},
     "output_type": "execute_result"
    }
   ],
   "source": [
    "accidentes[\"Precipitation(in)\"].value_counts(normalize = True)"
   ]
  },
  {
   "cell_type": "code",
   "execution_count": 17,
   "id": "45514f3b",
   "metadata": {},
   "outputs": [
    {
     "data": {
      "text/plain": [
       "False    0.929635\n",
       "True     0.070365\n",
       "Name: Crossing, dtype: float64"
      ]
     },
     "execution_count": 17,
     "metadata": {},
     "output_type": "execute_result"
    }
   ],
   "source": [
    "accidentes.Crossing .value_counts(normalize = True)"
   ]
  },
  {
   "cell_type": "markdown",
   "id": "9a79b14b",
   "metadata": {},
   "source": [
    "**Conclusión valores repetidos**\n",
    "\n",
    "Hay una alto porcentaje de valores repetidos, en especial en los valores booleanos, porque los valores posibles son TRUE o FALSE. En el caso de los tipo de dato FLOAT, los que mas se repiten son Visibility y Precipitation. El ID de los datos no se repite"
   ]
  },
  {
   "cell_type": "markdown",
   "id": "688ad84b",
   "metadata": {},
   "source": [
    "# Valores Nulos\n"
   ]
  },
  {
   "cell_type": "code",
   "execution_count": 18,
   "id": "cf65d2f2",
   "metadata": {},
   "outputs": [
    {
     "data": {
      "text/plain": [
       "<AxesSubplot:>"
      ]
     },
     "execution_count": 18,
     "metadata": {},
     "output_type": "execute_result"
    },
    {
     "data": {
      "image/png": "[encoded data removed]",
      "text/plain": [
       "<Figure size 1800x720 with 2 Axes>"
      ]
     },
     "metadata": {
      "needs_background": "light"
     },
     "output_type": "display_data"
    }
   ],
   "source": [
    "import missingno as msno\n",
    "msno.matrix(accidentes)\n"
   ]
  },
  {
   "cell_type": "markdown",
   "id": "ac0e1f62",
   "metadata": {},
   "source": [
    "La función matrix de Missingno permite ver de una forma visual dónde se encuentran los valores nulos en un conjunto de datos."
   ]
  },
  {
   "cell_type": "code",
   "execution_count": 19,
   "id": "4c3133c3",
   "metadata": {},
   "outputs": [
    {
     "name": "stdout",
     "output_type": "stream",
     "text": [
      "ID                        0\n",
      "Severity                  0\n",
      "Start_Time                0\n",
      "End_Time                  0\n",
      "Start_Lat                 0\n",
      "Start_Lng                 0\n",
      "Distance(mi)              0\n",
      "Street                    2\n",
      "Side                      0\n",
      "City                    137\n",
      "County                    0\n",
      "State                     0\n",
      "Temperature(F)        69274\n",
      "Wind_Chill(F)        469643\n",
      "Humidity(%)           73092\n",
      "Pressure(in)          59200\n",
      "Visibility(mi)        70546\n",
      "Wind_Speed(mph)      157944\n",
      "Precipitation(in)    549458\n",
      "Weather_Condition     70636\n",
      "Amenity                   0\n",
      "Bump                      0\n",
      "Crossing                  0\n",
      "Give_Way                  0\n",
      "Junction                  0\n",
      "No_Exit                   0\n",
      "Railway                   0\n",
      "Roundabout                0\n",
      "Station                   0\n",
      "Stop                      0\n",
      "Traffic_Calming           0\n",
      "Traffic_Signal            0\n",
      "Turning_Loop              0\n",
      "Sunrise_Sunset         2867\n",
      "Civil_Twilight         2867\n",
      "dtype: int64\n"
     ]
    }
   ],
   "source": [
    "print(accidentes.isnull().sum())"
   ]
  },
  {
   "cell_type": "code",
   "execution_count": 20,
   "id": "0effa8b6",
   "metadata": {},
   "outputs": [
    {
     "name": "stdout",
     "output_type": "stream",
     "text": [
      "ID || 0.0 || object\n",
      "Severity || 0.0 || int64\n",
      "Start_Time || 0.0 || object\n",
      "End_Time || 0.0 || object\n",
      "Start_Lat || 0.0 || float64\n",
      "Start_Lng || 0.0 || float64\n",
      "Distance(mi) || 0.0 || float64\n",
      "Street || 7.029032010914681e-07 || object\n",
      "Side || 0.0 || object\n",
      "City || 4.8148869274765566e-05 || object\n",
      "County || 0.0 || object\n",
      "State || 0.0 || object\n",
      "Temperature(F) || 0.02434645817620518 || float64\n",
      "Wind_Chill(F) || 0.16505678403510018 || float64\n",
      "Humidity(%) || 0.025688300387088792 || float64\n",
      "Pressure(in) || 0.020805934752307454 || float64\n",
      "Visibility(mi) || 0.024793504612099355 || float64\n",
      "Wind_Speed(mph) || 0.055509671596595415 || float64\n",
      "Precipitation(in) || 0.19310789353265795 || float64\n",
      "Weather_Condition || 0.02482513525614847 || object\n",
      "Amenity || 0.0 || bool\n",
      "Bump || 0.0 || bool\n",
      "Crossing || 0.0 || bool\n",
      "Give_Way || 0.0 || bool\n",
      "Junction || 0.0 || bool\n",
      "No_Exit || 0.0 || bool\n",
      "Railway || 0.0 || bool\n",
      "Roundabout || 0.0 || bool\n",
      "Station || 0.0 || bool\n",
      "Stop || 0.0 || bool\n",
      "Traffic_Calming || 0.0 || bool\n",
      "Traffic_Signal || 0.0 || bool\n",
      "Turning_Loop || 0.0 || bool\n",
      "Sunrise_Sunset || 0.0010076117387646194 || object\n",
      "Civil_Twilight || 0.0010076117387646194 || object\n"
     ]
    }
   ],
   "source": [
    "n_records = len(accidentes)\n",
    "def valores_inexistentes(df):\n",
    "    for columna in df:\n",
    "          print(\"{} || {} || {}\".format(\n",
    "            df[columna].name, \n",
    "            len(df[df[columna].isnull()])/(1.0*n_records), df[columna].dtype))\n",
    "            \n",
    "valores_inexistentes(accidentes)\n",
    "    "
   ]
  },
  {
   "cell_type": "markdown",
   "id": "62a10f20",
   "metadata": {},
   "source": [
    "Se puede observar que los campos:\n",
    "- Temperature(F)   \n",
    "- Wind_Chill(F)   \n",
    "- Humidity(%)      \n",
    "- Pressure(in)     \n",
    "- Visibility(mi)   \n",
    "- Wind_Speed(mph)  \n",
    "- Precipitation(in)\n",
    "- Weather_Condition\n",
    "\n",
    "Son los que mas valores nulos tienen. Pero igualmente, el porcentaje de valores nulos de cada campo, no tiene un gran impacto en nuestro análisis. Y priorizamos tener los valores completos."
   ]
  },
  {
   "cell_type": "code",
   "execution_count": 21,
   "id": "8dcd8cb7",
   "metadata": {},
   "outputs": [
    {
     "data": {
      "text/plain": [
       "ID                   2845342\n",
       "Severity             2845342\n",
       "Start_Time           2845342\n",
       "End_Time             2845342\n",
       "Start_Lat            2845342\n",
       "Start_Lng            2845342\n",
       "Distance(mi)         2845342\n",
       "Street               2845340\n",
       "Side                 2845342\n",
       "City                 2845205\n",
       "County               2845342\n",
       "State                2845342\n",
       "Temperature(F)       2776068\n",
       "Wind_Chill(F)        2375699\n",
       "Humidity(%)          2772250\n",
       "Pressure(in)         2786142\n",
       "Visibility(mi)       2774796\n",
       "Wind_Speed(mph)      2687398\n",
       "Precipitation(in)    2295884\n",
       "Weather_Condition    2774706\n",
       "Amenity              2845342\n",
       "Bump                 2845342\n",
       "Crossing             2845342\n",
       "Give_Way             2845342\n",
       "Junction             2845342\n",
       "No_Exit              2845342\n",
       "Railway              2845342\n",
       "Roundabout           2845342\n",
       "Station              2845342\n",
       "Stop                 2845342\n",
       "Traffic_Calming      2845342\n",
       "Traffic_Signal       2845342\n",
       "Turning_Loop         2845342\n",
       "Sunrise_Sunset       2842475\n",
       "Civil_Twilight       2842475\n",
       "dtype: int64"
      ]
     },
     "execution_count": 21,
     "metadata": {},
     "output_type": "execute_result"
    }
   ],
   "source": [
    "accidentes.count()"
   ]
  },
  {
   "cell_type": "code",
   "execution_count": 22,
   "id": "90029216",
   "metadata": {},
   "outputs": [
    {
     "data": {
      "text/plain": [
       "ID                   2207338\n",
       "Severity             2207338\n",
       "Start_Time           2207338\n",
       "End_Time             2207338\n",
       "Start_Lat            2207338\n",
       "Start_Lng            2207338\n",
       "Distance(mi)         2207338\n",
       "Street               2207338\n",
       "Side                 2207338\n",
       "City                 2207338\n",
       "County               2207338\n",
       "State                2207338\n",
       "Temperature(F)       2207338\n",
       "Wind_Chill(F)        2207338\n",
       "Humidity(%)          2207338\n",
       "Pressure(in)         2207338\n",
       "Visibility(mi)       2207338\n",
       "Wind_Speed(mph)      2207338\n",
       "Precipitation(in)    2207338\n",
       "Weather_Condition    2207338\n",
       "Amenity              2207338\n",
       "Bump                 2207338\n",
       "Crossing             2207338\n",
       "Give_Way             2207338\n",
       "Junction             2207338\n",
       "No_Exit              2207338\n",
       "Railway              2207338\n",
       "Roundabout           2207338\n",
       "Station              2207338\n",
       "Stop                 2207338\n",
       "Traffic_Calming      2207338\n",
       "Traffic_Signal       2207338\n",
       "Turning_Loop         2207338\n",
       "Sunrise_Sunset       2207338\n",
       "Civil_Twilight       2207338\n",
       "dtype: int64"
      ]
     },
     "execution_count": 22,
     "metadata": {},
     "output_type": "execute_result"
    }
   ],
   "source": [
    "accidentes = accidentes.dropna()   \n",
    "accidentes.count()"
   ]
  },
  {
   "cell_type": "code",
   "execution_count": 23,
   "id": "57075ff8",
   "metadata": {},
   "outputs": [
    {
     "data": {
      "text/html": [
       "<div>\n",
       "<style scoped>\n",
       "    .dataframe tbody tr th:only-of-type {\n",
       "        vertical-align: middle;\n",
       "    }\n",
       "\n",
       "    .dataframe tbody tr th {\n",
       "        vertical-align: top;\n",
       "    }\n",
       "\n",
       "    .dataframe thead th {\n",
       "        text-align: right;\n",
       "    }\n",
       "</style>\n",
       "<table border=\"1\" class=\"dataframe\">\n",
       "  <thead>\n",
       "    <tr style=\"text-align: right;\">\n",
       "      <th></th>\n",
       "      <th>ID</th>\n",
       "      <th>Severity</th>\n",
       "      <th>Start_Time</th>\n",
       "      <th>End_Time</th>\n",
       "      <th>Start_Lat</th>\n",
       "      <th>Start_Lng</th>\n",
       "      <th>Distance(mi)</th>\n",
       "      <th>Street</th>\n",
       "      <th>Side</th>\n",
       "      <th>City</th>\n",
       "      <th>...</th>\n",
       "      <th>No_Exit</th>\n",
       "      <th>Railway</th>\n",
       "      <th>Roundabout</th>\n",
       "      <th>Station</th>\n",
       "      <th>Stop</th>\n",
       "      <th>Traffic_Calming</th>\n",
       "      <th>Traffic_Signal</th>\n",
       "      <th>Turning_Loop</th>\n",
       "      <th>Sunrise_Sunset</th>\n",
       "      <th>Civil_Twilight</th>\n",
       "    </tr>\n",
       "  </thead>\n",
       "  <tbody>\n",
       "    <tr>\n",
       "      <th>0</th>\n",
       "      <td>A-1</td>\n",
       "      <td>3</td>\n",
       "      <td>2016-02-08 00:37:08</td>\n",
       "      <td>2016-02-08 06:37:08</td>\n",
       "      <td>40.108910</td>\n",
       "      <td>-83.092860</td>\n",
       "      <td>3.230</td>\n",
       "      <td>Outerbelt E</td>\n",
       "      <td>R</td>\n",
       "      <td>Dublin</td>\n",
       "      <td>...</td>\n",
       "      <td>False</td>\n",
       "      <td>False</td>\n",
       "      <td>False</td>\n",
       "      <td>False</td>\n",
       "      <td>False</td>\n",
       "      <td>False</td>\n",
       "      <td>False</td>\n",
       "      <td>False</td>\n",
       "      <td>Night</td>\n",
       "      <td>Night</td>\n",
       "    </tr>\n",
       "    <tr>\n",
       "      <th>4</th>\n",
       "      <td>A-5</td>\n",
       "      <td>3</td>\n",
       "      <td>2016-02-08 07:53:43</td>\n",
       "      <td>2016-02-08 13:53:43</td>\n",
       "      <td>39.172393</td>\n",
       "      <td>-84.492792</td>\n",
       "      <td>0.500</td>\n",
       "      <td>I-75 S</td>\n",
       "      <td>R</td>\n",
       "      <td>Cincinnati</td>\n",
       "      <td>...</td>\n",
       "      <td>False</td>\n",
       "      <td>False</td>\n",
       "      <td>False</td>\n",
       "      <td>False</td>\n",
       "      <td>False</td>\n",
       "      <td>False</td>\n",
       "      <td>False</td>\n",
       "      <td>False</td>\n",
       "      <td>Day</td>\n",
       "      <td>Day</td>\n",
       "    </tr>\n",
       "    <tr>\n",
       "      <th>7</th>\n",
       "      <td>A-8</td>\n",
       "      <td>2</td>\n",
       "      <td>2016-02-08 11:51:46</td>\n",
       "      <td>2016-02-08 17:51:46</td>\n",
       "      <td>41.375310</td>\n",
       "      <td>-81.820170</td>\n",
       "      <td>0.521</td>\n",
       "      <td>I-71 S</td>\n",
       "      <td>R</td>\n",
       "      <td>Cleveland</td>\n",
       "      <td>...</td>\n",
       "      <td>False</td>\n",
       "      <td>False</td>\n",
       "      <td>False</td>\n",
       "      <td>False</td>\n",
       "      <td>False</td>\n",
       "      <td>False</td>\n",
       "      <td>False</td>\n",
       "      <td>False</td>\n",
       "      <td>Day</td>\n",
       "      <td>Day</td>\n",
       "    </tr>\n",
       "    <tr>\n",
       "      <th>9</th>\n",
       "      <td>A-10</td>\n",
       "      <td>2</td>\n",
       "      <td>2016-02-08 15:16:43</td>\n",
       "      <td>2016-02-08 21:16:43</td>\n",
       "      <td>40.109310</td>\n",
       "      <td>-82.968490</td>\n",
       "      <td>0.826</td>\n",
       "      <td>Outerbelt W</td>\n",
       "      <td>R</td>\n",
       "      <td>Westerville</td>\n",
       "      <td>...</td>\n",
       "      <td>False</td>\n",
       "      <td>False</td>\n",
       "      <td>False</td>\n",
       "      <td>False</td>\n",
       "      <td>False</td>\n",
       "      <td>False</td>\n",
       "      <td>False</td>\n",
       "      <td>False</td>\n",
       "      <td>Day</td>\n",
       "      <td>Day</td>\n",
       "    </tr>\n",
       "    <tr>\n",
       "      <th>10</th>\n",
       "      <td>A-11</td>\n",
       "      <td>2</td>\n",
       "      <td>2016-02-08 15:43:50</td>\n",
       "      <td>2016-02-08 21:43:50</td>\n",
       "      <td>39.192880</td>\n",
       "      <td>-84.477230</td>\n",
       "      <td>0.307</td>\n",
       "      <td>I-75 N</td>\n",
       "      <td>R</td>\n",
       "      <td>Cincinnati</td>\n",
       "      <td>...</td>\n",
       "      <td>False</td>\n",
       "      <td>False</td>\n",
       "      <td>False</td>\n",
       "      <td>False</td>\n",
       "      <td>False</td>\n",
       "      <td>False</td>\n",
       "      <td>False</td>\n",
       "      <td>False</td>\n",
       "      <td>Day</td>\n",
       "      <td>Day</td>\n",
       "    </tr>\n",
       "  </tbody>\n",
       "</table>\n",
       "<p>5 rows × 35 columns</p>\n",
       "</div>"
      ],
      "text/plain": [
       "      ID  Severity           Start_Time             End_Time  Start_Lat  \\\n",
       "0    A-1         3  2016-02-08 00:37:08  2016-02-08 06:37:08  40.108910   \n",
       "4    A-5         3  2016-02-08 07:53:43  2016-02-08 13:53:43  39.172393   \n",
       "7    A-8         2  2016-02-08 11:51:46  2016-02-08 17:51:46  41.375310   \n",
       "9   A-10         2  2016-02-08 15:16:43  2016-02-08 21:16:43  40.109310   \n",
       "10  A-11         2  2016-02-08 15:43:50  2016-02-08 21:43:50  39.192880   \n",
       "\n",
       "    Start_Lng  Distance(mi)       Street Side         City  ... No_Exit  \\\n",
       "0  -83.092860         3.230  Outerbelt E    R       Dublin  ...   False   \n",
       "4  -84.492792         0.500       I-75 S    R   Cincinnati  ...   False   \n",
       "7  -81.820170         0.521       I-71 S    R    Cleveland  ...   False   \n",
       "9  -82.968490         0.826  Outerbelt W    R  Westerville  ...   False   \n",
       "10 -84.477230         0.307       I-75 N    R   Cincinnati  ...   False   \n",
       "\n",
       "   Railway  Roundabout  Station   Stop  Traffic_Calming  Traffic_Signal  \\\n",
       "0    False       False    False  False            False           False   \n",
       "4    False       False    False  False            False           False   \n",
       "7    False       False    False  False            False           False   \n",
       "9    False       False    False  False            False           False   \n",
       "10   False       False    False  False            False           False   \n",
       "\n",
       "    Turning_Loop  Sunrise_Sunset Civil_Twilight  \n",
       "0          False           Night          Night  \n",
       "4          False             Day            Day  \n",
       "7          False             Day            Day  \n",
       "9          False             Day            Day  \n",
       "10         False             Day            Day  \n",
       "\n",
       "[5 rows x 35 columns]"
      ]
     },
     "execution_count": 23,
     "metadata": {},
     "output_type": "execute_result"
    }
   ],
   "source": [
    "accidentes.head()\n"
   ]
  },
  {
   "cell_type": "markdown",
   "id": "9d472f1e",
   "metadata": {},
   "source": [
    "# Valores Extraordinarios\n"
   ]
  },
  {
   "cell_type": "code",
   "execution_count": 24,
   "id": "53be087b",
   "metadata": {},
   "outputs": [],
   "source": [
    "from scipy import stats\n",
    "import numpy as np"
   ]
  },
  {
   "cell_type": "code",
   "execution_count": 25,
   "id": "54e74867",
   "metadata": {},
   "outputs": [
    {
     "name": "stderr",
     "output_type": "stream",
     "text": [
      "C:\\Users\\clara\\AppData\\Local\\Temp\\ipykernel_12768\\350391745.py:3: DeprecationWarning: `np.object` is a deprecated alias for the builtin `object`. To silence this warning, use `object` by itself. Doing this will not modify any behavior and is safe. \n",
      "Deprecated in NumPy 1.20; for more details and guidance: https://numpy.org/devdocs/release/1.20.0-notes.html#deprecations\n",
      "  if accidentes[columna].dtype != np.object:\n"
     ]
    },
    {
     "name": "stdout",
     "output_type": "stream",
     "text": [
      "Severity || 62106 || int64\n",
      "Start_Lat || 0 || float64\n",
      "Start_Lng || 0 || float64\n",
      "Distance(mi) || 33082 || float64\n",
      "Temperature(F) || 10786 || float64\n",
      "Wind_Chill(F) || 16236 || float64\n",
      "Humidity(%) || 0 || float64\n",
      "Pressure(in) || 81296 || float64\n",
      "Visibility(mi) || 72810 || float64\n",
      "Wind_Speed(mph) || 16423 || float64\n",
      "Precipitation(in) || 15271 || float64\n",
      "Amenity || 23464 || bool\n",
      "Bump || 908 || bool\n",
      "Crossing || 170607 || bool\n",
      "Give_Way || 5318 || bool\n",
      "Junction || 183447 || bool\n",
      "No_Exit || 3577 || bool\n",
      "Railway || 17898 || bool\n",
      "Roundabout || 101 || bool\n",
      "Station || 59373 || bool\n",
      "Stop || 42969 || bool\n",
      "Traffic_Calming || 1473 || bool\n",
      "Traffic_Signal || 213116 || bool\n",
      "Turning_Loop || 0 || bool\n"
     ]
    }
   ],
   "source": [
    "def outliners_col(df):\n",
    "    for columna in df:\n",
    "        if accidentes[columna].dtype != np.object:\n",
    "            n_outiliners = len(accidentes[np.abs(stats.zscore(accidentes[columna]))>3])\n",
    "            print(\"{} || {} || {}\".format(df[columna].name, n_outiliners, df[columna].dtype))\n",
    "        \n",
    "outliners_col(accidentes)"
   ]
  },
  {
   "cell_type": "markdown",
   "id": "3fc5bda8",
   "metadata": {},
   "source": [
    "De esta manera observamos la cantidad de valores extraoridinarios que hay en cada columan. En los casos de los campos booleanos (True or False), solo hay dos opciones, por lo tatno el menos repetidos va a ser un extraordinario. A continuacion realizamos un BoxPlot para observar los valores extraordinarios\n",
    "\n"
   ]
  },
  {
   "cell_type": "code",
   "execution_count": 26,
   "id": "736ccc63",
   "metadata": {},
   "outputs": [
    {
     "data": {
      "text/plain": [
       "Text(0.5, 1.0, 'Box Plot - Severity')"
      ]
     },
     "execution_count": 26,
     "metadata": {},
     "output_type": "execute_result"
    },
    {
     "data": {
      "image/png": "[encoded data removed]",
      "text/plain": [
       "<Figure size 720x720 with 1 Axes>"
      ]
     },
     "metadata": {
      "needs_background": "light"
     },
     "output_type": "display_data"
    }
   ],
   "source": [
    "sns.boxplot(x=accidentes['Severity'])\n",
    "plt.title(\"Box Plot - {}\".format(\"Severity\"))"
   ]
  },
  {
   "cell_type": "code",
   "execution_count": 27,
   "id": "707679cb",
   "metadata": {},
   "outputs": [
    {
     "data": {
      "text/plain": [
       "Text(0.5, 1.0, 'Box Plot - Distance(mi)')"
      ]
     },
     "execution_count": 27,
     "metadata": {},
     "output_type": "execute_result"
    },
    {
     "data": {
      "image/png": "[encoded data removed]",
      "text/plain": [
       "<Figure size 720x720 with 1 Axes>"
      ]
     },
     "metadata": {
      "needs_background": "light"
     },
     "output_type": "display_data"
    }
   ],
   "source": [
    "sns.boxplot(x=accidentes['Distance(mi)'])\n",
    "plt.title(\"Box Plot - {}\".format(\"Distance(mi)\"))"
   ]
  },
  {
   "cell_type": "code",
   "execution_count": 28,
   "id": "5678d662",
   "metadata": {},
   "outputs": [
    {
     "data": {
      "text/plain": [
       "Text(0.5, 1.0, 'Box Plot - Pressure(in)')"
      ]
     },
     "execution_count": 28,
     "metadata": {},
     "output_type": "execute_result"
    },
    {
     "data": {
      "image/png": "[encoded data removed]",
      "text/plain": [
       "<Figure size 720x720 with 1 Axes>"
      ]
     },
     "metadata": {
      "needs_background": "light"
     },
     "output_type": "display_data"
    }
   ],
   "source": [
    "sns.boxplot(x=accidentes['Pressure(in)'])\n",
    "plt.title(\"Box Plot - {}\".format(\"Pressure(in)\"))"
   ]
  },
  {
   "cell_type": "code",
   "execution_count": 29,
   "id": "825062e0",
   "metadata": {},
   "outputs": [
    {
     "data": {
      "text/plain": [
       "Text(0.5, 1.0, 'Box Plot - Visibility(mi)')"
      ]
     },
     "execution_count": 29,
     "metadata": {},
     "output_type": "execute_result"
    },
    {
     "data": {
      "image/png": "[encoded data removed]",
      "text/plain": [
       "<Figure size 720x720 with 1 Axes>"
      ]
     },
     "metadata": {
      "needs_background": "light"
     },
     "output_type": "display_data"
    }
   ],
   "source": [
    "sns.boxplot(x=accidentes['Visibility(mi)'])\n",
    "plt.title(\"Box Plot - {}\".format(\"Visibility(mi)\"))"
   ]
  },
  {
   "cell_type": "code",
   "execution_count": 30,
   "id": "05c49fce",
   "metadata": {},
   "outputs": [],
   "source": [
    "accidentes.to_csv(\"accidentes.2.limpio_analisis.csv\", index=False)"
   ]
  }
 ],
 "metadata": {
  "kernelspec": {
   "display_name": "Python 3.9.12 ('base')",
   "language": "python",
   "name": "python3"
  },
  "language_info": {
   "codemirror_mode": {
    "name": "ipython",
    "version": 3
   },
   "file_extension": ".py",
   "mimetype": "text/x-python",
   "name": "python",
   "nbconvert_exporter": "python",
   "pygments_lexer": "ipython3",
   "version": "3.9.12"
  },
  "vscode": {
   "interpreter": {
    "hash": "1beaa9c6e7667c5d8c12ac1e4ca8bde1ee3f9068fd4827687223d65fdc79e282"
   }
  }
 },
 "nbformat": 4,
 "nbformat_minor": 5
}
