{
 "cells": [
  {
   "cell_type": "markdown",
   "metadata": {},
   "source": [
    "**LECTURA DEL CSV ORIGINAL**\n",
    "\n"
   ]
  },
  {
   "cell_type": "code",
   "execution_count": null,
   "metadata": {},
   "outputs": [],
   "source": [
    "import pandas as pd\n",
    "\n",
    "\n",
    "#csv file name to be read in \n",
    "\n",
    "in_csv = 'US_Accidents_Dec21_updated.csv'\n",
    "\n",
    "\n",
    "#get the number of lines of the csv file to be read\n",
    "\n",
    "number_lines = sum(1 for row in (open(in_csv)))\n",
    "\n",
    "#size of rows of data to write to the csv, \n",
    "\n",
    "#you can change the row size according to your need\n",
    "\n",
    "rowsize = 40000\n",
    "12\n",
    "13\n",
    "#start looping through data writing it to a new file for each set\n",
    "14\n",
    "for i in range(0,number_lines,rowsize):\n",
    "\n",
    "    df = pd.read_csv(in_csv,\n",
    "\n",
    "          header=None,\n",
    "\n",
    "          nrows = rowsize,#number of rows to read at each loop\n",
    "\n",
    "          skiprows = i)#skip rows that have been read\n",
    "\n",
    "\n",
    "    #csv to write data to a new file with indexed name. input_1.csv etc.\n",
    "\n",
    "    out_csv = 'input' + str(i) + '.csv'\n",
    "\n",
    "\n",
    "    df.to_csv(out_csv,\n",
    "\n",
    "          index=False,\n",
    "\n",
    "          header=False,\n",
    "          mode='a',#append data to csv file\n",
    "\n",
    "          chunksize=rowsize)#size of data to append for each loop"
   ]
  },
  {
   "cell_type": "markdown",
   "metadata": {},
   "source": [
    "**UNION DE LOS CSV EN UN DATA FRAME**"
   ]
  },
  {
   "cell_type": "code",
   "execution_count": null,
   "metadata": {},
   "outputs": [],
   "source": [
    "import pandas as pd\n",
    "import glob\n",
    "import os\n",
    "\n",
    "# setting the path for joining multiple files\n",
    "files = os.path.join('C:/Users/clara/US_Accidents1', 'input*.csv')\n",
    "\n",
    "# list of merged files returned\n",
    "files = glob.glob(files)\n",
    "\n",
    "print(\"Resultant CSV after joining all CSV files at a particular location...\")\n",
    "\n",
    "# joining files with concat and read_csv\n",
    "accidentes = pd.concat(map(pd.read_csv, files), ignore_index=True)\n",
    "print(accidentes)"
   ]
  },
  {
   "cell_type": "code",
   "execution_count": null,
   "metadata": {},
   "outputs": [],
   "source": [
    "accidentes.head()"
   ]
  }
 ],
 "metadata": {
  "kernelspec": {
   "display_name": "Python 3.9.12 ('base')",
   "language": "python",
   "name": "python3"
  },
  "language_info": {
   "codemirror_mode": {
    "name": "ipython",
    "version": 3
   },
   "file_extension": ".py",
   "mimetype": "text/x-python",
   "name": "python",
   "nbconvert_exporter": "python",
   "pygments_lexer": "ipython3",
   "version": "3.9.12"
  },
  "orig_nbformat": 4,
  "vscode": {
   "interpreter": {
    "hash": "1beaa9c6e7667c5d8c12ac1e4ca8bde1ee3f9068fd4827687223d65fdc79e282"
   }
  }
 },
 "nbformat": 4,
 "nbformat_minor": 2
}
